{
 "cells": [
  {
   "cell_type": "markdown",
   "id": "4d9fe075",
   "metadata": {},
   "source": [
    "### In this notbook we will study the network scientist co-authorship data\n",
    "1) Uncover communities with Louvain algorithm\n",
    "2) Extract local and global component \n",
    "3) Study the repartion of communities in the composition of global components\n",
    "> - Hierarchy of global components\n",
    "> - number of nodes\n",
    "> - number of edges\n",
    "> - the repartition of edges makes with other communities\n",
    "4) Uncover core-periphery from global component\n",
    "5) Study the repartion of communities in the core of the global components\n",
    "> - number of nodes\n",
    "> - number of edges\n",
    "> - the repartition of edges makes with other communities\n",
    "6) Identify the most important community in the network scientist co-authorship graph\n",
    "7) Identify the most important nodes"
   ]
  },
  {
   "cell_type": "code",
   "execution_count": 2,
   "id": "c3a5ed26",
   "metadata": {},
   "outputs": [],
   "source": [
    "# importation of modules\n",
    "import cpnet\n",
    "import math\n",
    "import pandas as pd\n",
    "import networkx as nx\n",
    "from community import community_louvain\n",
    "import matplotlib.pyplot as plt\n",
    "from networkx.algorithms import community\n",
    "import pyvis\n",
    "from pyvis import network as net\n",
    "import graph_tool.all as gt\n",
    "import polars as pl\n",
    "import json"
   ]
  },
  {
   "cell_type": "markdown",
   "id": "264bcaca",
   "metadata": {},
   "source": [
    "## Class"
   ]
  },
  {
   "cell_type": "code",
   "execution_count": 3,
   "id": "09a68a4c",
   "metadata": {},
   "outputs": [],
   "source": [
    "# Classes and Functions Definition\n",
    "class ComponentStructure:\n",
    "    \n",
    "    def __init__(self, graph, partition: dict):\n",
    "        self.graph = nx.Graph.copy(graph)\n",
    "        self.partition = partition\n",
    "        self.communities_id = self.__get_communities()\n",
    "        self.local_components = []\n",
    "        self.global_component = {}\n",
    "        self.lc_density = {}\n",
    "        \n",
    "    def set_local_components(self):\n",
    "        for community_id in self.communities_id:\n",
    "            nodes = set([k for k, v in self.partition.items() if v == community_id])\n",
    "            part = {k: v for k, v in self.partition.items() if v == community_id}\n",
    "            local_component = {\"lc\": self.graph.subgraph(nodes), \"partition\": part}\n",
    "            self.local_components.append(local_component) \n",
    "        return\n",
    "    \n",
    "    def remove_intra_community_edges(self):\n",
    "        temp_graph = nx.Graph.copy(self.graph)\n",
    "        for community_id in self.communities_id:\n",
    "            nodes = set([k for k, v in self.partition.items() if v == community_id])\n",
    "            for node in nodes:\n",
    "                neighbors = set(nx.neighbors(temp_graph, node))\n",
    "                inner_nodes = neighbors.intersection(nodes)\n",
    "                for inner_node in inner_nodes:\n",
    "                    temp_graph.remove_edge(node, inner_node)\n",
    "        temp_graph.remove_nodes_from(list(nx.isolates(temp_graph)))\n",
    "        part = {k: v for k, v in self.partition.items() if k in temp_graph.nodes()}\n",
    "        self.global_component = {'gp':temp_graph, 'part':part}\n",
    "        return \n",
    "    \n",
    "    def local_components_density(self):\n",
    "        i = 0;\n",
    "        for local_component in self.local_components:\n",
    "            self.lc_density[\"lc\"+str(i)] = nx.density(local_component[\"lc\"])\n",
    "            i = i+1\n",
    "        return self.local_components_density\n",
    "    \n",
    "    def __get_communities(self) -> set:\n",
    "        return set(self.partition.values())"
   ]
  },
  {
   "cell_type": "markdown",
   "id": "98843d2a",
   "metadata": {},
   "source": [
    "## Functions"
   ]
  },
  {
   "cell_type": "code",
   "execution_count": 4,
   "id": "45b247b7",
   "metadata": {},
   "outputs": [],
   "source": [
    "def drawer(net: pyvis.network, graph: nx.Graph(),  fixed: bool, partition=None):\n",
    "    if( partition != None):\n",
    "        for node in graph.nodes:\n",
    "            graph.nodes[node]['group'] = partition[node]\n",
    "            graph.nodes[node]['label'] = str(partition[node])\n",
    "    nt = net.Network('500px', '500px')\n",
    "    grid = net.Network(notebook=True)\n",
    "    grid.from_nx(graph)\n",
    "    grid.toggle_physics(fixed)\n",
    "    return grid.show(\"test.html\")\n",
    "\n",
    "def drawer_lc(net: pyvis.network, graph: nx.Graph(),  fixed: bool, community_id=None, color=None):\n",
    "    if( partition != None):\n",
    "        for node in graph.nodes:\n",
    "            graph.nodes[node]['color'] = color\n",
    "            graph.nodes[node]['label'] = str(community_id)\n",
    "    nt = net.Network('500px', '500px')\n",
    "    grid = net.Network(notebook=True)\n",
    "    grid.from_nx(graph)\n",
    "    grid.toggle_physics(fixed)\n",
    "    return grid.show(\"test.html\")\n",
    "\n",
    "def important_of_node(graph, node):\n",
    "    groupes = []\n",
    "    list_of_neighbors = list(nx.neighbors(graph, node))\n",
    "    graph_data = dict(graph.nodes.data())\n",
    "    neighbors_data = {k:v for k, v in graph_data.items() if k in list_of_neighbors}\n",
    "    \n",
    "    for k in neighbors_data.keys():\n",
    "        groupes.append(neighbors_data[k]['group'])\n",
    "    communities_groupes = list(set(groupes))\n",
    "    #same_communities_neighbors = {k:v for k, v in neighbors_data.items() if v['group'] == communities_groupes[0]}\n",
    "    number_of_nodes = len(communities_groupes)\n",
    "    graph.nodes[node]['size'] = 10*number_of_nodes\n",
    "    return \n",
    "\n",
    "def core_density(graph, partition):\n",
    "    periphery_nodes = list({k:v for k, v in partition.items() if v == 0})\n",
    "    temp_graph = nx.Graph.copy(graph)\n",
    "    temp_graph.remove_nodes_from(periphery_nodes)\n",
    "    return nx.density(temp_graph)\n",
    "\n",
    "def periphery_density(graph, partition):\n",
    "    periphery_nodes = list({k:v for k, v in partition.items() if v == 1})\n",
    "    temp_graph = nx.Graph.copy(graph)\n",
    "    temp_graph.remove_nodes_from(periphery_nodes)\n",
    "    return nx.density(temp_graph)\n",
    "\n",
    "def core_periphery_density(graph, partition):\n",
    "    core_nodes = list({k:v for k, v in partition.items() if v == 1})\n",
    "    periphery_nodes = list({k:v for k, v in partition.items() if v == 0})\n",
    "    number_of_nc = len(core_nodes)\n",
    "    number_of_np = len(periphery_nodes)\n",
    "    temp_graph = nx.Graph.copy(graph)\n",
    "    for node in core_nodes:\n",
    "        neighbors = set(nx.neighbors(graph, node))\n",
    "        inner_nodes = neighbors.intersection(core_nodes)\n",
    "        for inner_node in inner_nodes:\n",
    "            try:\n",
    "                temp_graph.remove_edge(node, inner_node)\n",
    "            except:\n",
    "                pass\n",
    "    density = len(temp_graph)/(number_of_nc*number_of_np)\n",
    "    return density\n",
    "\n",
    "def densities(graph, partition):\n",
    "    return {\n",
    "    \"core-core\": core_density(graph, partition),\n",
    "    \"core-periphery\": core_periphery_density(graph, partition),\n",
    "    \"periphery-periphery\": periphery_density(graph, partition) }\n",
    "\n",
    "def json_writer(data, path, file_name):\n",
    "    file = open(path+\"/\"+file_name+\".json\", \"w\")\n",
    "    json.dump(data, file, indent=6)\n",
    "    file.close()"
   ]
  },
  {
   "cell_type": "code",
   "execution_count": 5,
   "id": "cb9787c4",
   "metadata": {},
   "outputs": [
    {
     "data": {
      "text/html": [
       "<div>\n",
       "<style scoped>\n",
       "    .dataframe tbody tr th:only-of-type {\n",
       "        vertical-align: middle;\n",
       "    }\n",
       "\n",
       "    .dataframe tbody tr th {\n",
       "        vertical-align: top;\n",
       "    }\n",
       "\n",
       "    .dataframe thead th {\n",
       "        text-align: right;\n",
       "    }\n",
       "</style>\n",
       "<table border=\"1\" class=\"dataframe\">\n",
       "  <thead>\n",
       "    <tr style=\"text-align: right;\">\n",
       "      <th></th>\n",
       "      <th>edge_size</th>\n",
       "      <th>source_node</th>\n",
       "      <th>target_node</th>\n",
       "    </tr>\n",
       "  </thead>\n",
       "  <tbody>\n",
       "    <tr>\n",
       "      <th>0</th>\n",
       "      <td>2</td>\n",
       "      <td>Franchi, Enrico</td>\n",
       "      <td>Franchi, Enrico</td>\n",
       "    </tr>\n",
       "    <tr>\n",
       "      <th>1</th>\n",
       "      <td>1</td>\n",
       "      <td>Mili, Fatma</td>\n",
       "      <td>Mohan, Srikar</td>\n",
       "    </tr>\n",
       "    <tr>\n",
       "      <th>2</th>\n",
       "      <td>1</td>\n",
       "      <td>Mili, Fatma</td>\n",
       "      <td>Qu, Guangzhi</td>\n",
       "    </tr>\n",
       "    <tr>\n",
       "      <th>3</th>\n",
       "      <td>1</td>\n",
       "      <td>Mohan, Srikar</td>\n",
       "      <td>Qu, Guangzhi</td>\n",
       "    </tr>\n",
       "    <tr>\n",
       "      <th>4</th>\n",
       "      <td>4</td>\n",
       "      <td>Gao, Liang</td>\n",
       "      <td>Gao, Zi-You</td>\n",
       "    </tr>\n",
       "  </tbody>\n",
       "</table>\n",
       "</div>"
      ],
      "text/plain": [
       "   edge_size      source_node      target_node\n",
       "0          2  Franchi, Enrico  Franchi, Enrico\n",
       "1          1      Mili, Fatma    Mohan, Srikar\n",
       "2          1      Mili, Fatma     Qu, Guangzhi\n",
       "3          1    Mohan, Srikar     Qu, Guangzhi\n",
       "4          4       Gao, Liang      Gao, Zi-You"
      ]
     },
     "execution_count": 5,
     "metadata": {},
     "output_type": "execute_result"
    }
   ],
   "source": [
    "# Load data\n",
    "fil_name = '../data/edge_list.xlsx'\n",
    "dataset = pd.ExcelFile(fil_name)\n",
    "sheets = dataset.sheet_names\n",
    "data = dataset.parse(sheet_name=sheets[0])\n",
    "data.head()"
   ]
  },
  {
   "cell_type": "code",
   "execution_count": 13,
   "id": "17e65c7d",
   "metadata": {},
   "outputs": [
    {
     "name": "stdout",
     "output_type": "stream",
     "text": [
      "Number of edges before sanitize 359584\n",
      "Number of nodes before sanitize 56646\n"
     ]
    }
   ],
   "source": [
    "Root_graph = nx.from_pandas_edgelist(data, source='source_node', target='target_node', create_using=nx.Graph())\n",
    "print(\"Number of edges before sanitize \"+str(len(Root_graph.edges())))\n",
    "print(\"Number of nodes before sanitize \"+str(len(Root_graph.nodes())))"
   ]
  },
  {
   "cell_type": "code",
   "execution_count": 7,
   "id": "03261574",
   "metadata": {},
   "outputs": [
    {
     "name": "stdout",
     "output_type": "stream",
     "text": [
      "We have  1999 selfloops in the graph\n",
      "We have  0 selfloops in the graph\n",
      "We have  897 isolates nodes in the graph\n",
      "We have  0 isolates nodes in the graph\n",
      "Number of edges after sanitize 357585\n",
      "Number of nodes after sanitize 55749\n"
     ]
    }
   ],
   "source": [
    "selfloop_edges = list(nx.selfloop_edges(Root_graph))\n",
    "print(\"We have  \"+str(len(selfloop_edges))+ \" selfloops in the graph\")\n",
    "Root_graph.remove_edges_from(selfloop_edges)\n",
    "selfloop_edges = list(nx.selfloop_edges(Root_graph))\n",
    "print(\"We have  \"+str(len(selfloop_edges))+ \" selfloops in the graph\")\n",
    "\n",
    "isolates_nodes = list(nx.isolates(Root_graph))\n",
    "print(\"We have  \"+str(len(isolates_nodes))+ \" isolates nodes in the graph\")\n",
    "Root_graph.remove_nodes_from(isolates_nodes)\n",
    "isolates_nodes = list(nx.isolates(Root_graph))\n",
    "print(\"We have  \"+str(len(isolates_nodes))+ \" isolates nodes in the graph\")\n",
    "print(\"Number of edges after sanitize \"+str(len(Root_graph.edges())))\n",
    "print(\"Number of nodes after sanitize \"+str(len(Root_graph.nodes())))"
   ]
  },
  {
   "cell_type": "code",
   "execution_count": 7,
   "id": "ea2ffc85-b8d5-44a6-91a1-121c99d1ea34",
   "metadata": {},
   "outputs": [],
   "source": [
    "#Store graph as file\n",
    "graph_json = nx.node_link_data(Root_graph)\n",
    "json_writer(graph_json, \"../data\", \"co_authorship_graph\")"
   ]
  },
  {
   "cell_type": "markdown",
   "id": "7d5a8d80",
   "metadata": {},
   "source": [
    "#### 1 Uncovering communities"
   ]
  },
  {
   "cell_type": "code",
   "execution_count": 8,
   "id": "84b72718",
   "metadata": {},
   "outputs": [
    {
     "name": "stdout",
     "output_type": "stream",
     "text": [
      "Number of communities is: 4961\n"
     ]
    }
   ],
   "source": [
    "communities_partition = community_louvain.best_partition(Root_graph, resolution=1.0, randomize=True)\n",
    "number_of_communities = len(set(communities_partition.values()))\n",
    "print(\"Number of communities is: \"+ str(number_of_communities))"
   ]
  },
  {
   "cell_type": "code",
   "execution_count": 9,
   "id": "04e3cbd3-0a6b-4e3c-9e2a-2591e105b472",
   "metadata": {},
   "outputs": [],
   "source": [
    "json_writer(communities_partition, \"../data/partitions\", \"co_authorship_communities_louvain_partitions\")"
   ]
  },
  {
   "cell_type": "code",
   "execution_count": 9,
   "id": "e7cf05de",
   "metadata": {},
   "outputs": [],
   "source": [
    "Component_Structure = ComponentStructure(Root_graph, communities_partition)\n",
    "Component_Structure.set_local_components()\n",
    "Component_Structure.remove_intra_community_edges()"
   ]
  },
  {
   "cell_type": "code",
   "execution_count": 11,
   "id": "c36c1968",
   "metadata": {},
   "outputs": [],
   "source": [
    "gc = Component_Structure.global_component[\"gp\"]\n",
    "gc_partitions = Component_Structure.global_component[\"part\"]"
   ]
  },
  {
   "cell_type": "code",
   "execution_count": 12,
   "id": "661d94f3-dab2-4670-92d3-89136b818ba6",
   "metadata": {},
   "outputs": [],
   "source": [
    "gc_json = nx.node_link_data(gc)\n",
    "json_writer(gc_json, \"../data\", \"global_component_co_authorship\")"
   ]
  },
  {
   "cell_type": "code",
   "execution_count": 13,
   "id": "b9fe2c75-4a2e-4461-abdb-fbcc3f8111b3",
   "metadata": {},
   "outputs": [],
   "source": [
    "json_writer(gc_partitions, \"../data/partitions\", \"gloabla_component_co_authorship_partitions\")"
   ]
  },
  {
   "cell_type": "code",
   "execution_count": 14,
   "id": "42ab035e-6917-484a-a197-0a0d0a54bfc2",
   "metadata": {},
   "outputs": [],
   "source": [
    "index = 1\n",
    "for lc_component in Component_Structure.local_components:\n",
    "    lc_json = nx.node_link_data(lc_component[\"lc\"])\n",
    "    lc_partition = lc_component[\"partition\"]\n",
    "    json_writer(lc_json, \"../data\", \"local_component_co_authorship\"+str(index))\n",
    "    json_writer(lc_partition, \"../data/partitions\", \"local_component_co_authorship_partition\"+str(index))\n",
    "    index = index + 1"
   ]
  },
  {
   "cell_type": "code",
   "execution_count": 15,
   "id": "644b7269",
   "metadata": {},
   "outputs": [],
   "source": [
    "gc_list = list(nx.connected_components(gc))\n",
    "index = 1\n",
    "for gc_node in gc_list:\n",
    "    gc_c = nx.subgraph(gc, gc_node)\n",
    "    gc_c_json = nx.node_link_data(gc_c)\n",
    "    pa = {k:v for k,v in gc_partitions.items() if k in list(gc_c.nodes())}\n",
    "    json_writer(gc_c_json, \"../data\", \"global_component_co_authorship\"+str(index))\n",
    "    json_writer(pa, \"../data/partitions\", \"global_component_co_authorship_partition\"+str(index))\n",
    "    index = index + 1"
   ]
  },
  {
   "cell_type": "markdown",
   "id": "9023b47b",
   "metadata": {},
   "source": [
    "#### Study repartition of communities in the global components"
   ]
  },
  {
   "cell_type": "code",
   "execution_count": 16,
   "id": "4677ff22",
   "metadata": {},
   "outputs": [],
   "source": [
    "def extract_global_component(gc):\n",
    "    global_component_list_nodes = {}\n",
    "    global_component_list_edges = {}\n",
    "    connected_components = list(nx.connected_components(gc))\n",
    "    i = 1\n",
    "    for connected_component in connected_components:\n",
    "        graph = gc.subgraph(connected_component)\n",
    "        global_component_list_nodes[\"gc_\"+str(i)] = len(graph.nodes)\n",
    "        global_component_list_edges[\"gc_\"+str(i)] = len(graph.edges)\n",
    "        i = i+1\n",
    "    return global_component_list_nodes, global_component_list_edges\n",
    "\n",
    "def communities_nodes_count(gc, partitions):\n",
    "    communities_list_nodes = {}\n",
    "    index = 1\n",
    "    for community_id in partitions.values():\n",
    "        nmb_nodes = len(list({k:v for k, v in partitions.items() if v == community_id}))\n",
    "        communities_list_nodes[\"community_\"+str(index)] = nmb_nodes\n",
    "        index = index + 1\n",
    "    return communities_list_nodes\n",
    "\n",
    "def edges_count_of_community(gc, community_id, partitions):\n",
    "    numbers_of_nodes = 0\n",
    "    nodes = list({k:v for k, v in partitions.items() if v == community_id})\n",
    "    for node in nodes:\n",
    "        neighbors = list(nx.neighbors(gc, node))\n",
    "        numbers_of_nodes = numbers_of_nodes + len(neighbors)\n",
    "    return numbers_of_nodes  \n",
    "\n",
    "def edges_count_of_communities(gc, partitions):\n",
    "    communities_edges = {}\n",
    "    index = 1\n",
    "    for community_id in partitions.values():\n",
    "        edges = edges_count_of_community(gc, community_id, partitions)\n",
    "        communities_edges[\"comm_\"+str(index)] = edges\n",
    "        index = index + 1\n",
    "    return communities_edges\n",
    "\n",
    "def numbers_of_communities_connected(gc, community_id, partitions):\n",
    "    comm_neighbors = set()\n",
    "    nodes = list({k:v for k, v in partitions.items() if v == community_id})\n",
    "    for node in nodes:\n",
    "        neighbors = set(nx.neighbors(gc, node))\n",
    "        c_neighbors = set({k:v for k, v in partitions.items() if k in neighbors}.values())\n",
    "        comm_neighbors = comm_neighbors.union(c_neighbors)\n",
    "    return comm_neighbors\n",
    "\n",
    "def connected_comm_count(gc, partitions):\n",
    "    c_connected_communities = {}\n",
    "    c_connected_communities_count = {}\n",
    "    index = 1\n",
    "    for community_id in partitions.values():\n",
    "        nbr_comm = numbers_of_communities_connected(gc, community_id, partitions)\n",
    "        comm_neighbors = numbers_of_communities_connected(gc, community_id, partitions)\n",
    "        c_connected_communities_count[\"comm_\"+str(index)] = comm_neighbors\n",
    "        c_connected_communities[\"comm_\"+str(index)] = len(comm_neighbors)\n",
    "        index = index + 1\n",
    "    return c_connected_communities, c_connected_communities_count"
   ]
  },
  {
   "cell_type": "code",
   "execution_count": 18,
   "id": "67a8750c",
   "metadata": {},
   "outputs": [],
   "source": [
    "algo = cpnet.BE()\n",
    "algo.detect(gc)\n",
    "x = algo.get_coreness()\n",
    "c = algo.get_pair_id()"
   ]
  },
  {
   "cell_type": "code",
   "execution_count": 19,
   "id": "77b2f204-2a7e-45d0-9865-df873ae15bac",
   "metadata": {},
   "outputs": [],
   "source": [
    "for k in x:\n",
    "    x[k] = int(x[k])"
   ]
  },
  {
   "cell_type": "code",
   "execution_count": 20,
   "id": "19eeeaac-b378-4661-8c18-90f13f3e7b2f",
   "metadata": {},
   "outputs": [],
   "source": [
    "json_writer(x, \"../data/core_periphery_partitions\", \"global_component_cp\")"
   ]
  },
  {
   "cell_type": "code",
   "execution_count": 21,
   "id": "0368241d",
   "metadata": {},
   "outputs": [],
   "source": [
    "gc_list = list(nx.connected_components(gc))\n",
    "index = 0\n",
    "for gc_node in gc_list:\n",
    "    gc_c = nx.subgraph(gc, gc_node)\n",
    "    algo = cpnet.BE()\n",
    "    algo.detect(gc_c)\n",
    "    x = algo.get_coreness()\n",
    "    c = algo.get_pair_id()\n",
    "    for k in x:\n",
    "        x[k] = int(x[k])\n",
    "    json_writer(x, \"../data/core_periphery_partitions\", \"global_component_cp\"+str(index))\n",
    "    index = index + 1"
   ]
  },
  {
   "cell_type": "code",
   "execution_count": 12,
   "id": "222e4cd3",
   "metadata": {},
   "outputs": [],
   "source": [
    "index = 1\n",
    "for lc in Component_Structure.local_components:\n",
    "    algo = cpnet.BE()\n",
    "    algo.detect(lc['lc'])\n",
    "    x = algo.get_coreness()\n",
    "    c = algo.get_pair_id()\n",
    "    for k in x:\n",
    "        x[k] = int(x[k])\n",
    "    json_writer(x, \"../data/core_periphery_partitions\", \"local_component_cp\"+str(index))\n",
    "    index = index + 1"
   ]
  }
 ],
 "metadata": {
  "kernelspec": {
   "display_name": "Python 3 (ipykernel)",
   "language": "python",
   "name": "python3"
  },
  "language_info": {
   "codemirror_mode": {
    "name": "ipython",
    "version": 3
   },
   "file_extension": ".py",
   "mimetype": "text/x-python",
   "name": "python",
   "nbconvert_exporter": "python",
   "pygments_lexer": "ipython3",
   "version": "3.11.4"
  }
 },
 "nbformat": 4,
 "nbformat_minor": 5
}
