{
 "cells": [
  {
   "cell_type": "code",
   "execution_count": 13,
   "id": "5496f79b",
   "metadata": {},
   "outputs": [],
   "source": [
    "# importation of modules\n",
    "import numpy as np\n",
    "import math\n",
    "import matplotlib.pyplot as plt\n",
    "import random\n",
    "import pandas as pd\n",
    "from graph_tool.all import *\n",
    "import json"
   ]
  },
  {
   "cell_type": "code",
   "execution_count": 119,
   "id": "dbdb82b2",
   "metadata": {},
   "outputs": [],
   "source": [
    "number_of_colors = 7738\n",
    "color = [\"#\"+''.join([random.choice('0123456789ABCDEF') for j in range(6)])\n",
    "             for i in range(number_of_colors)]"
   ]
  },
  {
   "cell_type": "code",
   "execution_count": 120,
   "id": "34e9e59f",
   "metadata": {},
   "outputs": [
    {
     "data": {
      "text/plain": [
       "7738"
      ]
     },
     "execution_count": 120,
     "metadata": {},
     "output_type": "execute_result"
    }
   ],
   "source": [
    "len(color)"
   ]
  },
  {
   "cell_type": "code",
   "execution_count": 121,
   "id": "83b4f6b2",
   "metadata": {},
   "outputs": [
    {
     "data": {
      "text/plain": [
       "7738"
      ]
     },
     "execution_count": 121,
     "metadata": {},
     "output_type": "execute_result"
    }
   ],
   "source": [
    "len(set(color))"
   ]
  },
  {
   "cell_type": "code",
   "execution_count": 72,
   "id": "3d42a4ff",
   "metadata": {},
   "outputs": [],
   "source": [
    "#core blue\n",
    "#periphery orange\n",
    "cp_colors = [\"#1c71d8\", \"#2ec27e\"]"
   ]
  },
  {
   "cell_type": "markdown",
   "id": "6bdaf797",
   "metadata": {},
   "source": [
    "## Load global components data and partitions"
   ]
  },
  {
   "cell_type": "code",
   "execution_count": 151,
   "id": "8956a376",
   "metadata": {},
   "outputs": [],
   "source": [
    "def loader_json(path):\n",
    "    file = open(path)\n",
    "    data = json.load(file)\n",
    "    edges_dict = data[\"links\"]\n",
    "    edges_list = [tuple(d.values()) for d in edges_dict]\n",
    "    file.close()\n",
    "    return edges_list\n",
    "\n",
    "def loader_comm(path):\n",
    "    file = open(path)\n",
    "    partition = json.load(file)\n",
    "    return partition\n",
    "    \n",
    "def define_component_community(g:Graph, partition):\n",
    "    community = g.new_vertex_property(\"int\")\n",
    "    g.vertex_properties['community'] = community\n",
    "    \n",
    "    for node in g.get_vertices():\n",
    "        community[int(node)] = partition[g.vertex_properties['ids'][node]]\n",
    "    return community\n",
    "\n",
    "def define_component_color(g:Graph, colors):\n",
    "    vcolor = g.new_vertex_property(\"string\")\n",
    "    g.vertex_properties[\"vcolor\"] = vcolor\n",
    "    \n",
    "    for node in g.get_vertices():\n",
    "        index = g.vertex_properties[\"community\"][node]\n",
    "        vcolor[node] = colors[index]\n",
    "    return vcolor\n",
    "\n",
    "def define_cp(g:Graph, cp_partition):\n",
    "    cp = g.new_vertex_property(\"int\")\n",
    "    g.vertex_properties['cp'] = cp\n",
    "    \n",
    "    for node in g.get_vertices():\n",
    "        cp[int(node)] = cp_partition[g.vertex_properties['ids'][node]]\n",
    "    return cp\n",
    "\n",
    "def define_cp_color(g:Graph, cp_colors):\n",
    "    cpcolor = g.new_vertex_property(\"string\")\n",
    "    g.vertex_properties[\"cpcolor\"] = cpcolor\n",
    "    \n",
    "    for node in g.get_vertices():\n",
    "        index = g.vertex_properties[\"cp\"][node]\n",
    "        cpcolor[int(node)] = cp_colors[index]\n",
    "    return cpcolor"
   ]
  },
  {
   "cell_type": "code",
   "execution_count": 139,
   "id": "cdb4c792",
   "metadata": {},
   "outputs": [
    {
     "name": "stderr",
     "output_type": "stream",
     "text": [
      "IOPub data rate exceeded.\n",
      "The notebook server will temporarily stop sending output\n",
      "to the client in order to avoid crashing it.\n",
      "To change this limit, set the config variable\n",
      "`--NotebookApp.iopub_data_rate_limit`.\n",
      "\n",
      "Current values:\n",
      "NotebookApp.iopub_data_rate_limit=1000000.0 (bytes/sec)\n",
      "NotebookApp.rate_limit_window=3.0 (secs)\n",
      "\n"
     ]
    },
    {
     "data": {
      "text/plain": [
       "<VertexPropertyMap object with value type 'vector<double>', for Graph 0x7f7f0ea8d5d0, at 0x7f7ed57c1350>"
      ]
     },
     "execution_count": 139,
     "metadata": {},
     "output_type": "execute_result"
    }
   ],
   "source": [
    "#GC1\n",
    "gc1_edges_list = loader_json(\"../data/global_component_co_authorship1.json\")\n",
    "gc1_partition = loader_comm(\"../data/partitions/global_component_co_authorship_partition1.json\")\n",
    "gc1_cp_partition = loader_comm(\"../data/core_periphery_partitions/global_component_cp0.json\")\n",
    "gc1 = Graph(gc1_edges_list, hashed=True, directed=False)\n",
    "\n",
    "community = define_component_community(gc1, gc1_partition)\n",
    "vcolor = define_component_color(gc1, color)\n",
    "cp = define_cp(gc1, gc1_cp_partition)\n",
    "cpcolor = define_cp_color(gc1, cp_colors)\n",
    "graph_draw(gc1, vertex_text=community, vertex_fill_color=vcolor, output=\"gc1.pdf\")\n",
    "graph_draw(gc1, vertex_text=cp, vertex_fill_color=cpcolor, output=\"gc1_cp.pdf\")"
   ]
  },
  {
   "cell_type": "code",
   "execution_count": 123,
   "id": "450f2f20",
   "metadata": {},
   "outputs": [
    {
     "data": {
      "text/plain": [
       "<VertexPropertyMap object with value type 'vector<double>', for Graph 0x7f7ed65a22d0, at 0x7f7ed396cc10>"
      ]
     },
     "execution_count": 123,
     "metadata": {},
     "output_type": "execute_result"
    }
   ],
   "source": [
    "#GC2\n",
    "gc2_edges_list = loader_json(\"../data/global_component_co_authorship2.json\")\n",
    "gc2_partition = loader_comm(\"../data/partitions/global_component_co_authorship_partition2.json\")\n",
    "gc2_cp_partition = loader_comm(\"../data/core_periphery_partitions/global_component_cp1.json\")\n",
    "gc2 = Graph(gc2_edges_list, hashed=True, directed=False)\n",
    "community = define_component_community(gc2, gc2_partition)\n",
    "vcolor = define_component_color(gc2, color)\n",
    "cp = define_cp(gc2, gc2_cp_partition)\n",
    "cpcolor = define_cp_color(gc2, cp_colors)\n",
    "graph_draw(gc2, vertex_text=community, vertex_fill_color=vcolor, output=\"gc2.pdf\")\n",
    "graph_draw(gc2, vertex_text=cp, vertex_fill_color=cpcolor, output=\"gc2_cp.pdf\")"
   ]
  },
  {
   "cell_type": "markdown",
   "id": "257afc45",
   "metadata": {},
   "source": [
    "### Global components CP"
   ]
  },
  {
   "cell_type": "code",
   "execution_count": 132,
   "id": "484e98e1",
   "metadata": {},
   "outputs": [],
   "source": [
    "#GC3\n",
    "for i in range(1, 230):\n",
    "    gc_edges_list = loader_json(\"../data/global_component_co_authorship\"+str(i)+\".json\")\n",
    "    gc_partition = loader_comm(\"../data/partitions/global_component_co_authorship_partition\"+str(i)+\".json\")\n",
    "    gc_cp_partition = loader_comm(\"../data/core_periphery_partitions/global_component_cp\"+str(i-1)+\".json\")\n",
    "    gc = Graph(gc_edges_list, hashed=True, directed=False)\n",
    "    community = define_component_community(gc, gc_partition)\n",
    "    vcolor = define_component_color(gc, color)\n",
    "    cp = define_cp(gc, gc_cp_partition)\n",
    "    cpcolor = define_cp_color(gc, cp_colors)\n",
    "    graph_draw(gc, vertex_text=community, vertex_fill_color=vcolor, output=\"gc\"+str(i)+\".pdf\")\n",
    "    graph_draw(gc, vertex_text=community, vertex_fill_color=cpcolor, output=\"gc\"+str(i)+\"_cp.pdf\")"
   ]
  },
  {
   "cell_type": "markdown",
   "id": "1b27c513",
   "metadata": {},
   "source": [
    "### Local Components CP"
   ]
  },
  {
   "cell_type": "code",
   "execution_count": 172,
   "id": "a6f3c569",
   "metadata": {},
   "outputs": [
    {
     "ename": "FileNotFoundError",
     "evalue": "[Errno 2] Aucun fichier ou dossier de ce type: '../data/core_periphery_partitions/local_component_cp4962.json'",
     "output_type": "error",
     "traceback": [
      "\u001b[0;31m---------------------------------------------------------------------------\u001b[0m",
      "\u001b[0;31mFileNotFoundError\u001b[0m                         Traceback (most recent call last)",
      "Cell \u001b[0;32mIn[172], line 4\u001b[0m\n\u001b[1;32m      2\u001b[0m lc_edges_list \u001b[38;5;241m=\u001b[39m loader_json(\u001b[38;5;124m\"\u001b[39m\u001b[38;5;124m../data/local_component_co_authorship\u001b[39m\u001b[38;5;124m\"\u001b[39m\u001b[38;5;241m+\u001b[39m\u001b[38;5;28mstr\u001b[39m(i)\u001b[38;5;241m+\u001b[39m\u001b[38;5;124m\"\u001b[39m\u001b[38;5;124m.json\u001b[39m\u001b[38;5;124m\"\u001b[39m)\n\u001b[1;32m      3\u001b[0m lc_partition \u001b[38;5;241m=\u001b[39m loader_comm(\u001b[38;5;124m\"\u001b[39m\u001b[38;5;124m../data/partitions/local_component_co_authorship_partition\u001b[39m\u001b[38;5;124m\"\u001b[39m\u001b[38;5;241m+\u001b[39m\u001b[38;5;28mstr\u001b[39m(i)\u001b[38;5;241m+\u001b[39m\u001b[38;5;124m\"\u001b[39m\u001b[38;5;124m.json\u001b[39m\u001b[38;5;124m\"\u001b[39m)\n\u001b[0;32m----> 4\u001b[0m lc_cp_partition \u001b[38;5;241m=\u001b[39m \u001b[43mloader_comm\u001b[49m\u001b[43m(\u001b[49m\u001b[38;5;124;43m\"\u001b[39;49m\u001b[38;5;124;43m../data/core_periphery_partitions/local_component_cp\u001b[39;49m\u001b[38;5;124;43m\"\u001b[39;49m\u001b[38;5;241;43m+\u001b[39;49m\u001b[38;5;28;43mstr\u001b[39;49m\u001b[43m(\u001b[49m\u001b[43mi\u001b[49m\u001b[43m)\u001b[49m\u001b[38;5;241;43m+\u001b[39;49m\u001b[38;5;124;43m\"\u001b[39;49m\u001b[38;5;124;43m.json\u001b[39;49m\u001b[38;5;124;43m\"\u001b[39;49m\u001b[43m)\u001b[49m\n\u001b[1;32m      5\u001b[0m lc \u001b[38;5;241m=\u001b[39m Graph(lc_edges_list, hashed\u001b[38;5;241m=\u001b[39m\u001b[38;5;28;01mTrue\u001b[39;00m, directed\u001b[38;5;241m=\u001b[39m\u001b[38;5;28;01mFalse\u001b[39;00m)\n\u001b[1;32m      6\u001b[0m community \u001b[38;5;241m=\u001b[39m define_component_community(lc, lc_partition)\n",
      "Cell \u001b[0;32mIn[151], line 10\u001b[0m, in \u001b[0;36mloader_comm\u001b[0;34m(path)\u001b[0m\n\u001b[1;32m      9\u001b[0m \u001b[38;5;28;01mdef\u001b[39;00m \u001b[38;5;21mloader_comm\u001b[39m(path):\n\u001b[0;32m---> 10\u001b[0m     file \u001b[38;5;241m=\u001b[39m \u001b[38;5;28;43mopen\u001b[39;49m\u001b[43m(\u001b[49m\u001b[43mpath\u001b[49m\u001b[43m)\u001b[49m\n\u001b[1;32m     11\u001b[0m     partition \u001b[38;5;241m=\u001b[39m json\u001b[38;5;241m.\u001b[39mload(file)\n\u001b[1;32m     12\u001b[0m     \u001b[38;5;28;01mreturn\u001b[39;00m partition\n",
      "File \u001b[0;32m~/anaconda3/envs/gt/lib/python3.11/site-packages/IPython/core/interactiveshell.py:284\u001b[0m, in \u001b[0;36m_modified_open\u001b[0;34m(file, *args, **kwargs)\u001b[0m\n\u001b[1;32m    277\u001b[0m \u001b[38;5;28;01mif\u001b[39;00m file \u001b[38;5;129;01min\u001b[39;00m {\u001b[38;5;241m0\u001b[39m, \u001b[38;5;241m1\u001b[39m, \u001b[38;5;241m2\u001b[39m}:\n\u001b[1;32m    278\u001b[0m     \u001b[38;5;28;01mraise\u001b[39;00m \u001b[38;5;167;01mValueError\u001b[39;00m(\n\u001b[1;32m    279\u001b[0m         \u001b[38;5;124mf\u001b[39m\u001b[38;5;124m\"\u001b[39m\u001b[38;5;124mIPython won\u001b[39m\u001b[38;5;124m'\u001b[39m\u001b[38;5;124mt let you open fd=\u001b[39m\u001b[38;5;132;01m{\u001b[39;00mfile\u001b[38;5;132;01m}\u001b[39;00m\u001b[38;5;124m by default \u001b[39m\u001b[38;5;124m\"\u001b[39m\n\u001b[1;32m    280\u001b[0m         \u001b[38;5;124m\"\u001b[39m\u001b[38;5;124mas it is likely to crash IPython. If you know what you are doing, \u001b[39m\u001b[38;5;124m\"\u001b[39m\n\u001b[1;32m    281\u001b[0m         \u001b[38;5;124m\"\u001b[39m\u001b[38;5;124myou can use builtins\u001b[39m\u001b[38;5;124m'\u001b[39m\u001b[38;5;124m open.\u001b[39m\u001b[38;5;124m\"\u001b[39m\n\u001b[1;32m    282\u001b[0m     )\n\u001b[0;32m--> 284\u001b[0m \u001b[38;5;28;01mreturn\u001b[39;00m \u001b[43mio_open\u001b[49m\u001b[43m(\u001b[49m\u001b[43mfile\u001b[49m\u001b[43m,\u001b[49m\u001b[43m \u001b[49m\u001b[38;5;241;43m*\u001b[39;49m\u001b[43margs\u001b[49m\u001b[43m,\u001b[49m\u001b[43m \u001b[49m\u001b[38;5;241;43m*\u001b[39;49m\u001b[38;5;241;43m*\u001b[39;49m\u001b[43mkwargs\u001b[49m\u001b[43m)\u001b[49m\n",
      "\u001b[0;31mFileNotFoundError\u001b[0m: [Errno 2] Aucun fichier ou dossier de ce type: '../data/core_periphery_partitions/local_component_cp4962.json'"
     ]
    }
   ],
   "source": [
    "for i in range(1, 4962):\n",
    "    lc_edges_list = loader_json(\"../data/local_component_co_authorship\"+str(i)+\".json\")\n",
    "    lc_partition = loader_comm(\"../data/partitions/local_component_co_authorship_partition\"+str(i)+\".json\")\n",
    "    lc_cp_partition = loader_comm(\"../data/core_periphery_partitions/local_component_cp\"+str(i)+\".json\")\n",
    "    lc = Graph(lc_edges_list, hashed=True, directed=False)\n",
    "    community = define_component_community(lc, lc_partition)\n",
    "    vcolor = define_component_color(lc, color)\n",
    "    cp = define_cp(lc, lc_cp_partition)\n",
    "    cpcolor = define_cp_color(lc, cp_colors)\n",
    "    graph_draw(lc, vertex_text=community, vertex_fill_color=vcolor, output=\"lc_graph/lc\"+str(i)+\".pdf\")\n",
    "    graph_draw(lc, vertex_text=community, vertex_fill_color=cpcolor, output=\"lc_graph/lc\"+str(i)+\"_cp.pdf\")"
   ]
  },
  {
   "cell_type": "code",
   "execution_count": null,
   "id": "90b847e1",
   "metadata": {},
   "outputs": [],
   "source": []
  }
 ],
 "metadata": {
  "kernelspec": {
   "display_name": "Python 3 (ipykernel)",
   "language": "python",
   "name": "python3"
  },
  "language_info": {
   "codemirror_mode": {
    "name": "ipython",
    "version": 3
   },
   "file_extension": ".py",
   "mimetype": "text/x-python",
   "name": "python",
   "nbconvert_exporter": "python",
   "pygments_lexer": "ipython3",
   "version": "3.11.4"
  }
 },
 "nbformat": 4,
 "nbformat_minor": 5
}
