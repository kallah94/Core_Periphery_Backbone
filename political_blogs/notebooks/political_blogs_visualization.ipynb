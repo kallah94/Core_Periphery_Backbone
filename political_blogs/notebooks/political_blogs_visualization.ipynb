{
 "cells": [
  {
   "cell_type": "code",
   "execution_count": 1,
   "id": "0854a662",
   "metadata": {},
   "outputs": [],
   "source": [
    "# importation of modules\n",
    "import numpy as np\n",
    "import math\n",
    "import matplotlib.pyplot as plt\n",
    "import random\n",
    "import pandas as pd\n",
    "from graph_tool.all import *\n",
    "import json"
   ]
  },
  {
   "cell_type": "code",
   "execution_count": 5,
   "id": "b845bba3",
   "metadata": {},
   "outputs": [],
   "source": [
    "number_of_colors = 11\n",
    "color = [\"#\"+''.join([random.choice('0123456789ABCDEF') for j in range(6)])\n",
    "             for i in range(number_of_colors)]"
   ]
  },
  {
   "cell_type": "code",
   "execution_count": 6,
   "id": "ff7bd466",
   "metadata": {},
   "outputs": [
    {
     "data": {
      "text/plain": [
       "11"
      ]
     },
     "execution_count": 6,
     "metadata": {},
     "output_type": "execute_result"
    }
   ],
   "source": [
    "len(color)"
   ]
  },
  {
   "cell_type": "code",
   "execution_count": 7,
   "id": "3ce3a349",
   "metadata": {},
   "outputs": [
    {
     "data": {
      "text/plain": [
       "11"
      ]
     },
     "execution_count": 7,
     "metadata": {},
     "output_type": "execute_result"
    }
   ],
   "source": [
    "len(set(color))"
   ]
  },
  {
   "cell_type": "code",
   "execution_count": 8,
   "id": "7c7ab890",
   "metadata": {},
   "outputs": [],
   "source": [
    "#core blue\n",
    "#periphery orange\n",
    "cp_colors = [\"#1c71d8\", \"#2ec27e\"]"
   ]
  },
  {
   "cell_type": "markdown",
   "id": "a965d3a1",
   "metadata": {},
   "source": [
    "## Load global components data and partitions"
   ]
  },
  {
   "cell_type": "code",
   "execution_count": 61,
   "id": "e5bc61e1",
   "metadata": {},
   "outputs": [],
   "source": [
    "def loader_json(path):\n",
    "    file = open(path)\n",
    "    data = json.load(file)\n",
    "    edges_dict = data[\"links\"]\n",
    "    edges_list = [tuple(d.values()) for d in edges_dict]\n",
    "    file.close()\n",
    "    return edges_list\n",
    "\n",
    "def loader_comm(path):\n",
    "    file = open(path)\n",
    "    partition = json.load(file)\n",
    "    return partition\n",
    "    \n",
    "def define_component_community(g:Graph, partition):\n",
    "    community = g.new_vertex_property(\"int\")\n",
    "    g.vertex_properties['community'] = community\n",
    "    for node in g.get_vertices():\n",
    "        index = partition[str(g.vertex_properties['ids'][node])]\n",
    "        community[int(node)] = index\n",
    "    return community\n",
    "\n",
    "def define_component_color(g:Graph, colors):\n",
    "    vcolor = g.new_vertex_property(\"string\")\n",
    "    g.vertex_properties[\"vcolor\"] = vcolor\n",
    "    \n",
    "    for node in g.get_vertices():\n",
    "        index = g.vertex_properties[\"community\"][node]\n",
    "        vcolor[node] = colors[index]\n",
    "    return vcolor\n",
    "\n",
    "def define_cp(g:Graph, cp_partition):\n",
    "    cp = g.new_vertex_property(\"int\")\n",
    "    g.vertex_properties['cp'] = cp\n",
    "    for node in g.get_vertices():\n",
    "        cp[int(node)] = cp_partition[str(g.vertex_properties['ids'][node])]\n",
    "    return cp\n",
    "\n",
    "def define_cp_color(g:Graph, cp_colors):\n",
    "    cpcolor = g.new_vertex_property(\"string\")\n",
    "    g.vertex_properties[\"cpcolor\"] = cpcolor\n",
    "    \n",
    "    for node in g.get_vertices():\n",
    "        index = g.vertex_properties[\"cp\"][node]\n",
    "        cpcolor[int(node)] = cp_colors[index]\n",
    "    return cpcolor"
   ]
  },
  {
   "cell_type": "code",
   "execution_count": 62,
   "id": "e7e104f5",
   "metadata": {},
   "outputs": [
    {
     "data": {
      "text/plain": [
       "<VertexPropertyMap object with value type 'vector<double>', for Graph 0x7fa5297aacd0, at 0x7fa529797350>"
      ]
     },
     "execution_count": 62,
     "metadata": {},
     "output_type": "execute_result"
    }
   ],
   "source": [
    "#GC1\n",
    "gc1_edges_list = loader_json(\"../data/global_component_political_bloc1.json\")\n",
    "gc1_partition = loader_comm(\"../data/partitions/global_component_political_bloc_partition1.json\")\n",
    "gc1_cp_partition = loader_comm(\"../data/core_periphery_partitions/global_component_cp0.json\")\n",
    "gc1 = Graph(gc1_edges_list, hashed=True, hash_type='int', directed=False)\n",
    "community = define_component_community(gc1, gc1_partition)\n",
    "vcolor = define_component_color(gc1, color)\n",
    "cp = define_cp(gc1, gc1_cp_partition)\n",
    "cpcolor = define_cp_color(gc1, cp_colors)\n",
    "graph_draw(gc1, vertex_text=community, vertex_fill_color=vcolor, output=\"gc1.pdf\")\n",
    "graph_draw(gc1, vertex_text=cp, vertex_fill_color=cpcolor, output=\"gc1_cp.pdf\")"
   ]
  },
  {
   "cell_type": "code",
   "execution_count": 63,
   "id": "19aed88c",
   "metadata": {},
   "outputs": [],
   "source": [
    "for i in range(1, 11):\n",
    "    gc_edges_list = loader_json(\"../data/global_component_political_bloc\"+str(i)+\".json\")\n",
    "    gc_partition = loader_comm(\"../data/partitions/global_component_political_bloc_partition\"+str(i)+\".json\")\n",
    "    gc_cp_partition = loader_comm(\"../data/core_periphery_partitions/global_component_cp\"+str(i-1)+\".json\")\n",
    "    gc = Graph(gc_edges_list, hashed=True, hash_type='int', directed=False)\n",
    "    community = define_component_community(gc, gc_partition)\n",
    "    vcolor = define_component_color(gc, color)\n",
    "    cp = define_cp(gc, gc_cp_partition)\n",
    "    cpcolor = define_cp_color(gc, cp_colors)\n",
    "    graph_draw(gc, vertex_text=community, vertex_fill_color=vcolor, output=\"gc\"+str(i)+\".pdf\")\n",
    "    graph_draw(gc, vertex_text=community, vertex_fill_color=cpcolor, output=\"gc\"+str(i)+\"_cp.pdf\")"
   ]
  },
  {
   "cell_type": "code",
   "execution_count": null,
   "id": "b806f10c",
   "metadata": {},
   "outputs": [],
   "source": []
  },
  {
   "cell_type": "code",
   "execution_count": 67,
   "id": "be007136",
   "metadata": {},
   "outputs": [],
   "source": [
    "for i in range(1, 12):\n",
    "    lc_edges_list = loader_json(\"../data/local_component_political_bloc\"+str(i)+\".json\")\n",
    "    lc_partition = loader_comm(\"../data/partitions/local_component_political_partition\"+str(i)+\".json\")\n",
    "    lc_cp_partition = loader_comm(\"../data/core_periphery_partitions/local_component_cp\"+str(i)+\".json\")\n",
    "    lc = Graph(lc_edges_list, hashed=True, hash_type='int', directed=False)\n",
    "    community = define_component_community(lc, lc_partition)\n",
    "    vcolor = define_component_color(lc, color)\n",
    "    cp = define_cp(lc, lc_cp_partition)\n",
    "    cpcolor = define_cp_color(lc, cp_colors)\n",
    "    graph_draw(lc, vertex_text=community, vertex_fill_color=vcolor, output=\"lc_graph/lc\"+str(i)+\".pdf\")\n",
    "    graph_draw(lc, vertex_text=community, vertex_fill_color=cpcolor, output=\"lc_graph/lc\"+str(i)+\"_cp.pdf\")"
   ]
  },
  {
   "cell_type": "code",
   "execution_count": null,
   "id": "ee1c9437",
   "metadata": {},
   "outputs": [],
   "source": []
  }
 ],
 "metadata": {
  "kernelspec": {
   "display_name": "Python 3 (ipykernel)",
   "language": "python",
   "name": "python3"
  },
  "language_info": {
   "codemirror_mode": {
    "name": "ipython",
    "version": 3
   },
   "file_extension": ".py",
   "mimetype": "text/x-python",
   "name": "python",
   "nbconvert_exporter": "python",
   "pygments_lexer": "ipython3",
   "version": "3.11.4"
  }
 },
 "nbformat": 4,
 "nbformat_minor": 5
}
