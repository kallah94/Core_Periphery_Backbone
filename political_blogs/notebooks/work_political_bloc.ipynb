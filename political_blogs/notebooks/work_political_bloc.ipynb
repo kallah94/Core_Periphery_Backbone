{
 "cells": [
  {
   "cell_type": "markdown",
   "id": "e2bf5692-a2f2-45e3-8d2d-ed450f708848",
   "metadata": {},
   "source": [
    "## Visualisation des résultats"
   ]
  },
  {
   "cell_type": "code",
   "execution_count": 39,
   "id": "7c9a0e03-28dd-4982-b7de-5aabd719f0fb",
   "metadata": {},
   "outputs": [],
   "source": [
    "# importation of modules\n",
    "import cpnet\n",
    "import numpy as np\n",
    "import math\n",
    "import pandas as pd\n",
    "import networkx as nx\n",
    "from community import community_louvain\n",
    "import matplotlib.pyplot as plt\n",
    "from networkx.algorithms import community\n",
    "import pyvis\n",
    "from pyvis import network as net\n",
    "from graph_tool.all import *\n",
    "import polars as pl\n",
    "import json"
   ]
  },
  {
   "cell_type": "markdown",
   "id": "3bfa6bd4",
   "metadata": {},
   "source": [
    "## Class"
   ]
  },
  {
   "cell_type": "code",
   "execution_count": 40,
   "id": "32828a2b",
   "metadata": {},
   "outputs": [],
   "source": [
    "# Classes and Functions Definition\n",
    "class ComponentStructure:\n",
    "    \n",
    "    def __init__(self, graph, partition: dict):\n",
    "        self.graph = nx.Graph.copy(graph)\n",
    "        self.partition = partition\n",
    "        self.communities_id = self.__get_communities()\n",
    "        self.local_components = []\n",
    "        self.global_component = {}\n",
    "        self.lc_density = {}\n",
    "        \n",
    "    def set_local_components(self):\n",
    "        for community_id in self.communities_id:\n",
    "            nodes = set([k for k, v in self.partition.items() if v == community_id])\n",
    "            part = {k: v for k, v in self.partition.items() if v == community_id}\n",
    "            local_component = {\"lc\": self.graph.subgraph(nodes), \"partition\": part}\n",
    "            self.local_components.append(local_component) \n",
    "        return\n",
    "    \n",
    "    def remove_intra_community_edges(self):\n",
    "        temp_graph = nx.Graph.copy(self.graph)\n",
    "        for community_id in self.communities_id:\n",
    "            nodes = set([k for k, v in self.partition.items() if v == community_id])\n",
    "            for node in nodes:\n",
    "                neighbors = set(nx.neighbors(temp_graph, node))\n",
    "                inner_nodes = neighbors.intersection(nodes)\n",
    "                for inner_node in inner_nodes:\n",
    "                    temp_graph.remove_edge(node, inner_node)\n",
    "        temp_graph.remove_nodes_from(list(nx.isolates(temp_graph)))\n",
    "        part = {k: v for k, v in self.partition.items() if k in temp_graph.nodes()}\n",
    "        self.global_component = {'gp':temp_graph, 'part':part}\n",
    "        return \n",
    "    \n",
    "    def local_components_density(self):\n",
    "        i = 0;\n",
    "        for local_component in self.local_components:\n",
    "            self.lc_density[\"lc\"+str(i)] = nx.density(local_component[\"lc\"])\n",
    "            i = i+1\n",
    "        return self.local_components_density\n",
    "    \n",
    "    def __get_communities(self) -> set:\n",
    "        return set(self.partition.values())"
   ]
  },
  {
   "cell_type": "markdown",
   "id": "e91c675e",
   "metadata": {},
   "source": [
    "## Functions"
   ]
  },
  {
   "cell_type": "code",
   "execution_count": 41,
   "id": "93904762",
   "metadata": {},
   "outputs": [],
   "source": [
    "def drawer(net: pyvis.network, graph: nx.Graph(),  fixed: bool, partition=None):\n",
    "    if( partition != None):\n",
    "        for node in graph.nodes:\n",
    "            graph.nodes[node]['group'] = partition[node]\n",
    "            graph.nodes[node]['label'] = str(partition[node])\n",
    "    nt = net.Network('500px', '500px')\n",
    "    grid = net.Network(notebook=True)\n",
    "    grid.from_nx(graph)\n",
    "    grid.toggle_physics(fixed)\n",
    "    return grid.show(\"test.html\")\n",
    "\n",
    "def drawer_lc(net: pyvis.network, graph: nx.Graph(),  fixed: bool, community_id=None, color=None):\n",
    "    if( partition != None):\n",
    "        for node in graph.nodes:\n",
    "            graph.nodes[node]['color'] = color\n",
    "            graph.nodes[node]['label'] = str(community_id)\n",
    "    nt = net.Network('500px', '500px')\n",
    "    grid = net.Network(notebook=True)\n",
    "    grid.from_nx(graph)\n",
    "    grid.toggle_physics(fixed)\n",
    "    return grid.show(\"test.html\")\n",
    "\n",
    "def important_of_node(graph, node):\n",
    "    groupes = []\n",
    "    list_of_neighbors = list(nx.neighbors(graph, node))\n",
    "    graph_data = dict(graph.nodes.data())\n",
    "    neighbors_data = {k:v for k, v in graph_data.items() if k in list_of_neighbors}\n",
    "    \n",
    "    for k in neighbors_data.keys():\n",
    "        groupes.append(neighbors_data[k]['group'])\n",
    "    communities_groupes = list(set(groupes))\n",
    "    #same_communities_neighbors = {k:v for k, v in neighbors_data.items() if v['group'] == communities_groupes[0]}\n",
    "    number_of_nodes = len(communities_groupes)\n",
    "    graph.nodes[node]['size'] = 10*number_of_nodes\n",
    "    return \n",
    "\n",
    "def core_density(graph, partition):\n",
    "    periphery_nodes = list({k:v for k, v in partition.items() if v == 0})\n",
    "    temp_graph = nx.Graph.copy(graph)\n",
    "    temp_graph.remove_nodes_from(periphery_nodes)\n",
    "    return nx.density(temp_graph)\n",
    "\n",
    "def periphery_density(graph, partition):\n",
    "    periphery_nodes = list({k:v for k, v in partition.items() if v == 1})\n",
    "    temp_graph = nx.Graph.copy(graph)\n",
    "    temp_graph.remove_nodes_from(periphery_nodes)\n",
    "    return nx.density(temp_graph)\n",
    "\n",
    "def core_periphery_density(graph, partition):\n",
    "    core_nodes = list({k:v for k, v in partition.items() if v == 1})\n",
    "    periphery_nodes = list({k:v for k, v in partition.items() if v == 0})\n",
    "    number_of_nc = len(core_nodes)\n",
    "    number_of_np = len(periphery_nodes)\n",
    "    temp_graph = nx.Graph.copy(graph)\n",
    "    for node in core_nodes:\n",
    "        neighbors = set(nx.neighbors(graph, node))\n",
    "        inner_nodes = neighbors.intersection(core_nodes)\n",
    "        for inner_node in inner_nodes:\n",
    "            try:\n",
    "                temp_graph.remove_edge(node, inner_node)\n",
    "            except:\n",
    "                pass\n",
    "    density = len(temp_graph)/(number_of_nc*number_of_np)\n",
    "    return density\n",
    "\n",
    "def densities(graph, partition):\n",
    "    return {\n",
    "    \"core-core\": core_density(graph, partition),\n",
    "    \"core-periphery\": core_periphery_density(graph, partition),\n",
    "    \"periphery-periphery\": periphery_density(graph, partition) }\n",
    "\n",
    "def json_writer(data, path, file_name):\n",
    "    file = open(path+\"/\"+file_name+\".json\", \"w\")\n",
    "    json.dump(data, file, indent=6)\n",
    "    file.close()"
   ]
  },
  {
   "cell_type": "markdown",
   "id": "83bfe472",
   "metadata": {},
   "source": [
    "### Load Graph"
   ]
  },
  {
   "cell_type": "code",
   "execution_count": 42,
   "id": "3af9c362-3746-40d4-998c-8d97cd1192a5",
   "metadata": {},
   "outputs": [
    {
     "name": "stderr",
     "output_type": "stream",
     "text": [
      "/tmp/ipykernel_172883/1529037444.py:3: ParserWarning: Falling back to the 'python' engine because the 'c' engine does not support regex separators (separators > 1 char and different from '\\s+' are interpreted as regex); you can avoid this warning by specifying engine='python'.\n",
      "  data = pd.read_table(fil_name, sep='\\t+', header=0, names=[\"source_node\", \"target_node\"])\n"
     ]
    },
    {
     "data": {
      "text/html": [
       "<div>\n",
       "<style scoped>\n",
       "    .dataframe tbody tr th:only-of-type {\n",
       "        vertical-align: middle;\n",
       "    }\n",
       "\n",
       "    .dataframe tbody tr th {\n",
       "        vertical-align: top;\n",
       "    }\n",
       "\n",
       "    .dataframe thead th {\n",
       "        text-align: right;\n",
       "    }\n",
       "</style>\n",
       "<table border=\"1\" class=\"dataframe\">\n",
       "  <thead>\n",
       "    <tr style=\"text-align: right;\">\n",
       "      <th></th>\n",
       "      <th>source_node</th>\n",
       "      <th>target_node</th>\n",
       "    </tr>\n",
       "  </thead>\n",
       "  <tbody>\n",
       "    <tr>\n",
       "      <th>0</th>\n",
       "      <td>1</td>\n",
       "      <td>2</td>\n",
       "    </tr>\n",
       "    <tr>\n",
       "      <th>1</th>\n",
       "      <td>1</td>\n",
       "      <td>3</td>\n",
       "    </tr>\n",
       "    <tr>\n",
       "      <th>2</th>\n",
       "      <td>1</td>\n",
       "      <td>4</td>\n",
       "    </tr>\n",
       "    <tr>\n",
       "      <th>3</th>\n",
       "      <td>1</td>\n",
       "      <td>5</td>\n",
       "    </tr>\n",
       "    <tr>\n",
       "      <th>4</th>\n",
       "      <td>1</td>\n",
       "      <td>6</td>\n",
       "    </tr>\n",
       "    <tr>\n",
       "      <th>...</th>\n",
       "      <td>...</td>\n",
       "      <td>...</td>\n",
       "    </tr>\n",
       "    <tr>\n",
       "      <th>33425</th>\n",
       "      <td>975</td>\n",
       "      <td>664</td>\n",
       "    </tr>\n",
       "    <tr>\n",
       "      <th>33426</th>\n",
       "      <td>975</td>\n",
       "      <td>67</td>\n",
       "    </tr>\n",
       "    <tr>\n",
       "      <th>33427</th>\n",
       "      <td>975</td>\n",
       "      <td>1004</td>\n",
       "    </tr>\n",
       "    <tr>\n",
       "      <th>33428</th>\n",
       "      <td>975</td>\n",
       "      <td>1224</td>\n",
       "    </tr>\n",
       "    <tr>\n",
       "      <th>33429</th>\n",
       "      <td>1028</td>\n",
       "      <td>791</td>\n",
       "    </tr>\n",
       "  </tbody>\n",
       "</table>\n",
       "<p>33430 rows × 2 columns</p>\n",
       "</div>"
      ],
      "text/plain": [
       "       source_node  target_node\n",
       "0                1            2\n",
       "1                1            3\n",
       "2                1            4\n",
       "3                1            5\n",
       "4                1            6\n",
       "...            ...          ...\n",
       "33425          975          664\n",
       "33426          975           67\n",
       "33427          975         1004\n",
       "33428          975         1224\n",
       "33429         1028          791\n",
       "\n",
       "[33430 rows x 2 columns]"
      ]
     },
     "execution_count": 42,
     "metadata": {},
     "output_type": "execute_result"
    }
   ],
   "source": [
    "# Load data\n",
    "fil_name = '../data/data_blocp'\n",
    "data = pd.read_table(fil_name, sep='\\t+', header=0, names=[\"source_node\", \"target_node\"])\n",
    "data"
   ]
  },
  {
   "cell_type": "code",
   "execution_count": 43,
   "id": "f199e429",
   "metadata": {},
   "outputs": [
    {
     "name": "stdout",
     "output_type": "stream",
     "text": [
      "Number of edges before sanitize 16715\n",
      "Number of nodes before sanitize 1224\n"
     ]
    }
   ],
   "source": [
    "Root_graph = nx.from_pandas_edgelist(data, source='source_node', target='target_node', create_using=nx.Graph())\n",
    "print(\"Number of edges before sanitize \"+str(len(Root_graph.edges())))\n",
    "print(\"Number of nodes before sanitize \"+str(len(Root_graph.nodes())))"
   ]
  },
  {
   "cell_type": "code",
   "execution_count": 44,
   "id": "0fe01f17",
   "metadata": {},
   "outputs": [
    {
     "name": "stdout",
     "output_type": "stream",
     "text": [
      "We have  0 selfloops in the graph\n",
      "We have  0 selfloops in the graph\n",
      "We have  0 isolates nodes in the graph\n",
      "We have  0 isolates nodes in the graph\n",
      "Number of edges after sanitize 16715\n",
      "Number of nodes after sanitize 1224\n"
     ]
    }
   ],
   "source": [
    "selfloop_edges = list(nx.selfloop_edges(Root_graph))\n",
    "print(\"We have  \"+str(len(selfloop_edges))+ \" selfloops in the graph\")\n",
    "Root_graph.remove_edges_from(selfloop_edges)\n",
    "selfloop_edges = list(nx.selfloop_edges(Root_graph))\n",
    "print(\"We have  \"+str(len(selfloop_edges))+ \" selfloops in the graph\")\n",
    "\n",
    "isolates_nodes = list(nx.isolates(Root_graph))\n",
    "print(\"We have  \"+str(len(isolates_nodes))+ \" isolates nodes in the graph\")\n",
    "Root_graph.remove_nodes_from(isolates_nodes)\n",
    "isolates_nodes = list(nx.isolates(Root_graph))\n",
    "print(\"We have  \"+str(len(isolates_nodes))+ \" isolates nodes in the graph\")\n",
    "print(\"Number of edges after sanitize \"+str(len(Root_graph.edges())))\n",
    "print(\"Number of nodes after sanitize \"+str(len(Root_graph.nodes())))"
   ]
  },
  {
   "cell_type": "code",
   "execution_count": 45,
   "id": "82698ef2",
   "metadata": {},
   "outputs": [],
   "source": [
    "#Store graph as file\n",
    "graph_json = nx.node_link_data(Root_graph)\n",
    "json_writer(graph_json, \"../data\", \"political_bloc_graph\")"
   ]
  },
  {
   "cell_type": "markdown",
   "id": "f6eeba3f",
   "metadata": {},
   "source": [
    "#### 1 Uncovering communities"
   ]
  },
  {
   "cell_type": "code",
   "execution_count": 46,
   "id": "ed3f00cc",
   "metadata": {},
   "outputs": [
    {
     "name": "stdout",
     "output_type": "stream",
     "text": [
      "Number of communities is: 12\n"
     ]
    }
   ],
   "source": [
    "communities_partition = community_louvain.best_partition(Root_graph, resolution=1.0, randomize=True)\n",
    "number_of_communities = len(set(communities_partition.values()))\n",
    "print(\"Number of communities is: \"+ str(number_of_communities))"
   ]
  },
  {
   "cell_type": "code",
   "execution_count": 47,
   "id": "44388e36",
   "metadata": {},
   "outputs": [],
   "source": [
    "json_writer(communities_partition, \"../data/partitions\", \"political_bloc_communities_louvain_partitions\")"
   ]
  },
  {
   "cell_type": "code",
   "execution_count": 48,
   "id": "dc1d967c",
   "metadata": {},
   "outputs": [],
   "source": [
    "Component_Structure = ComponentStructure(Root_graph, communities_partition)\n",
    "Component_Structure.set_local_components()\n",
    "Component_Structure.remove_intra_community_edges()"
   ]
  },
  {
   "cell_type": "code",
   "execution_count": 49,
   "id": "027f4aa3",
   "metadata": {},
   "outputs": [],
   "source": [
    "gc = Component_Structure.global_component[\"gp\"]\n",
    "gc_partitions = Component_Structure.global_component[\"part\"]"
   ]
  },
  {
   "cell_type": "code",
   "execution_count": 50,
   "id": "13f9ed5b",
   "metadata": {},
   "outputs": [],
   "source": [
    "gc_json = nx.node_link_data(gc)\n",
    "json_writer(gc_json, \"../data\", \"global_component_political_bloc\")"
   ]
  },
  {
   "cell_type": "code",
   "execution_count": 51,
   "id": "988b300d",
   "metadata": {},
   "outputs": [],
   "source": [
    "json_writer(gc_partitions, \"../data/partitions\", \"gloabla_component_political_bloc_partitions\")"
   ]
  },
  {
   "cell_type": "code",
   "execution_count": 52,
   "id": "e63a29c7",
   "metadata": {},
   "outputs": [],
   "source": [
    "index = 1\n",
    "for lc_component in Component_Structure.local_components:\n",
    "    lc_json = nx.node_link_data(lc_component[\"lc\"])\n",
    "    lc_partition = lc_component[\"partition\"]\n",
    "    json_writer(lc_json, \"../data\", \"local_component_political_bloc\"+str(index))\n",
    "    json_writer(lc_partition, \"../data/partitions\", \"local_component_political_partition\"+str(index))\n",
    "    index = index + 1"
   ]
  },
  {
   "cell_type": "code",
   "execution_count": 53,
   "id": "0302594d",
   "metadata": {},
   "outputs": [],
   "source": [
    "gc_list = list(nx.connected_components(gc))\n",
    "index = 1\n",
    "for gc_node in gc_list:\n",
    "    gc_c = nx.subgraph(gc, gc_node)\n",
    "    gc_c_json = nx.node_link_data(gc_c)\n",
    "    pa = {k:v for k,v in gc_partitions.items() if k in list(gc_c.nodes())}\n",
    "    json_writer(gc_c_json, \"../data\", \"global_component_political_bloc\"+str(index))\n",
    "    json_writer(pa, \"../data/partitions\", \"global_component_political_bloc_partition\"+str(index))\n",
    "    index = index + 1"
   ]
  },
  {
   "cell_type": "code",
   "execution_count": 54,
   "id": "6f0ee5d8",
   "metadata": {},
   "outputs": [],
   "source": [
    "algo = cpnet.BE()\n",
    "algo.detect(gc)\n",
    "x = algo.get_coreness()\n",
    "c = algo.get_pair_id()"
   ]
  },
  {
   "cell_type": "code",
   "execution_count": 55,
   "id": "41d1c7a9",
   "metadata": {},
   "outputs": [],
   "source": [
    "for k in x:\n",
    "    x[k] = int(x[k])"
   ]
  },
  {
   "cell_type": "code",
   "execution_count": 56,
   "id": "a7a46197",
   "metadata": {},
   "outputs": [],
   "source": [
    "json_writer(x, \"../data/core_periphery_partitions\", \"global_component_cp\")"
   ]
  },
  {
   "cell_type": "code",
   "execution_count": 57,
   "id": "3e621b2b",
   "metadata": {},
   "outputs": [],
   "source": [
    "gc_list = list(nx.connected_components(gc))\n",
    "index = 0\n",
    "for gc_node in gc_list:\n",
    "    gc_c = nx.subgraph(gc, gc_node)\n",
    "    algo = cpnet.BE()\n",
    "    algo.detect(gc_c)\n",
    "    x = algo.get_coreness()\n",
    "    c = algo.get_pair_id()\n",
    "    for k in x:\n",
    "        x[k] = int(x[k])\n",
    "    json_writer(x, \"../data/core_periphery_partitions\", \"global_component_cp\"+str(index))\n",
    "    index = index + 1"
   ]
  },
  {
   "cell_type": "code",
   "execution_count": 58,
   "id": "327e14ff",
   "metadata": {},
   "outputs": [],
   "source": [
    "index = 1\n",
    "for lc in Component_Structure.local_components:\n",
    "    algo = cpnet.BE()\n",
    "    algo.detect(lc['lc'])\n",
    "    x = algo.get_coreness()\n",
    "    c = algo.get_pair_id()\n",
    "    for k in x:\n",
    "        x[k] = int(x[k])\n",
    "    json_writer(x, \"../data/core_periphery_partitions\", \"local_component_cp\"+str(index))\n",
    "    index = index + 1"
   ]
  }
 ],
 "metadata": {
  "kernelspec": {
   "display_name": "Python 3 (ipykernel)",
   "language": "python",
   "name": "python3"
  },
  "language_info": {
   "codemirror_mode": {
    "name": "ipython",
    "version": 3
   },
   "file_extension": ".py",
   "mimetype": "text/x-python",
   "name": "python",
   "nbconvert_exporter": "python",
   "pygments_lexer": "ipython3",
   "version": "3.11.4"
  }
 },
 "nbformat": 4,
 "nbformat_minor": 5
}
